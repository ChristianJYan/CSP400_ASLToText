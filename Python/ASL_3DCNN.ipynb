{
 "cells": [
  {
   "cell_type": "code",
   "execution_count": 43,
   "id": "6a5b3748",
   "metadata": {},
   "outputs": [],
   "source": [
    "import tqdm\n",
    "import random\n",
    "import pathlib\n",
    "import itertools\n",
    "import collections\n",
    "import re\n",
    "import json\n",
    "import shutil\n",
    "import cv2\n",
    "import numpy as np\n",
    "import tensorflow as tf\n",
    "\n",
    "import os\n",
    "from os import listdir\n",
    "from os.path import isfile, join\n",
    "from pathlib import Path"
   ]
  },
  {
   "cell_type": "code",
   "execution_count": 44,
   "id": "4ac524ef",
   "metadata": {
    "collapsed": true
   },
   "outputs": [
    {
     "name": "stdout",
     "output_type": "stream",
     "text": [
      "['C:\\\\CSP400\\\\CSP400_ASLToText\\\\Data\\\\Videos\\\\wlasl-complete\\\\sample_classes\\\\a\\\\00295.mp4', 'C:\\\\CSP400\\\\CSP400_ASLToText\\\\Data\\\\Videos\\\\wlasl-complete\\\\sample_classes\\\\a\\\\01610.mp4', 'C:\\\\CSP400\\\\CSP400_ASLToText\\\\Data\\\\Videos\\\\wlasl-complete\\\\sample_classes\\\\a\\\\01611.mp4', 'C:\\\\CSP400\\\\CSP400_ASLToText\\\\Data\\\\Videos\\\\wlasl-complete\\\\sample_classes\\\\a\\\\01612.mp4', 'C:\\\\CSP400\\\\CSP400_ASLToText\\\\Data\\\\Videos\\\\wlasl-complete\\\\sample_classes\\\\a\\\\01613.mp4', 'C:\\\\CSP400\\\\CSP400_ASLToText\\\\Data\\\\Videos\\\\wlasl-complete\\\\sample_classes\\\\a\\\\01614.mp4', 'C:\\\\CSP400\\\\CSP400_ASLToText\\\\Data\\\\Videos\\\\wlasl-complete\\\\sample_classes\\\\a\\\\01615.mp4', 'C:\\\\CSP400\\\\CSP400_ASLToText\\\\Data\\\\Videos\\\\wlasl-complete\\\\sample_classes\\\\a\\\\66039.mp4', 'C:\\\\CSP400\\\\CSP400_ASLToText\\\\Data\\\\Videos\\\\wlasl-complete\\\\sample_classes\\\\a lot\\\\02123.mp4', 'C:\\\\CSP400\\\\CSP400_ASLToText\\\\Data\\\\Videos\\\\wlasl-complete\\\\sample_classes\\\\a lot\\\\02124.mp4', 'C:\\\\CSP400\\\\CSP400_ASLToText\\\\Data\\\\Videos\\\\wlasl-complete\\\\sample_classes\\\\a lot\\\\02125.mp4', 'C:\\\\CSP400\\\\CSP400_ASLToText\\\\Data\\\\Videos\\\\wlasl-complete\\\\sample_classes\\\\a lot\\\\02126.mp4', 'C:\\\\CSP400\\\\CSP400_ASLToText\\\\Data\\\\Videos\\\\wlasl-complete\\\\sample_classes\\\\a lot\\\\02128.mp4', 'C:\\\\CSP400\\\\CSP400_ASLToText\\\\Data\\\\Videos\\\\wlasl-complete\\\\sample_classes\\\\a lot\\\\02129.mp4', 'C:\\\\CSP400\\\\CSP400_ASLToText\\\\Data\\\\Videos\\\\wlasl-complete\\\\sample_classes\\\\a lot\\\\02130.mp4', 'C:\\\\CSP400\\\\CSP400_ASLToText\\\\Data\\\\Videos\\\\wlasl-complete\\\\sample_classes\\\\a lot\\\\02131.mp4', 'C:\\\\CSP400\\\\CSP400_ASLToText\\\\Data\\\\Videos\\\\wlasl-complete\\\\sample_classes\\\\abdomen\\\\00333.mp4', 'C:\\\\CSP400\\\\CSP400_ASLToText\\\\Data\\\\Videos\\\\wlasl-complete\\\\sample_classes\\\\abdomen\\\\00335.mp4', 'C:\\\\CSP400\\\\CSP400_ASLToText\\\\Data\\\\Videos\\\\wlasl-complete\\\\sample_classes\\\\abdomen\\\\00336.mp4', 'C:\\\\CSP400\\\\CSP400_ASLToText\\\\Data\\\\Videos\\\\wlasl-complete\\\\sample_classes\\\\abdomen\\\\00337.mp4', 'C:\\\\CSP400\\\\CSP400_ASLToText\\\\Data\\\\Videos\\\\wlasl-complete\\\\sample_classes\\\\abdomen\\\\00338.mp4', 'C:\\\\CSP400\\\\CSP400_ASLToText\\\\Data\\\\Videos\\\\wlasl-complete\\\\sample_classes\\\\abdomen\\\\00339.mp4', 'C:\\\\CSP400\\\\CSP400_ASLToText\\\\Data\\\\Videos\\\\wlasl-complete\\\\sample_classes\\\\abdomen\\\\00340.mp4', 'C:\\\\CSP400\\\\CSP400_ASLToText\\\\Data\\\\Videos\\\\wlasl-complete\\\\sample_classes\\\\abdomen\\\\00341.mp4', 'C:\\\\CSP400\\\\CSP400_ASLToText\\\\Data\\\\Videos\\\\wlasl-complete\\\\sample_classes\\\\able\\\\00374.mp4', 'C:\\\\CSP400\\\\CSP400_ASLToText\\\\Data\\\\Videos\\\\wlasl-complete\\\\sample_classes\\\\able\\\\00376.mp4', 'C:\\\\CSP400\\\\CSP400_ASLToText\\\\Data\\\\Videos\\\\wlasl-complete\\\\sample_classes\\\\able\\\\00377.mp4', 'C:\\\\CSP400\\\\CSP400_ASLToText\\\\Data\\\\Videos\\\\wlasl-complete\\\\sample_classes\\\\able\\\\00378.mp4', 'C:\\\\CSP400\\\\CSP400_ASLToText\\\\Data\\\\Videos\\\\wlasl-complete\\\\sample_classes\\\\able\\\\00381.mp4', 'C:\\\\CSP400\\\\CSP400_ASLToText\\\\Data\\\\Videos\\\\wlasl-complete\\\\sample_classes\\\\able\\\\00382.mp4', 'C:\\\\CSP400\\\\CSP400_ASLToText\\\\Data\\\\Videos\\\\wlasl-complete\\\\sample_classes\\\\able\\\\00383.mp4', 'C:\\\\CSP400\\\\CSP400_ASLToText\\\\Data\\\\Videos\\\\wlasl-complete\\\\sample_classes\\\\able\\\\00384.mp4', 'C:\\\\CSP400\\\\CSP400_ASLToText\\\\Data\\\\Videos\\\\wlasl-complete\\\\sample_classes\\\\about\\\\00412.mp4', 'C:\\\\CSP400\\\\CSP400_ASLToText\\\\Data\\\\Videos\\\\wlasl-complete\\\\sample_classes\\\\about\\\\00414.mp4', 'C:\\\\CSP400\\\\CSP400_ASLToText\\\\Data\\\\Videos\\\\wlasl-complete\\\\sample_classes\\\\about\\\\00415.mp4', 'C:\\\\CSP400\\\\CSP400_ASLToText\\\\Data\\\\Videos\\\\wlasl-complete\\\\sample_classes\\\\about\\\\00416.mp4', 'C:\\\\CSP400\\\\CSP400_ASLToText\\\\Data\\\\Videos\\\\wlasl-complete\\\\sample_classes\\\\about\\\\00419.mp4', 'C:\\\\CSP400\\\\CSP400_ASLToText\\\\Data\\\\Videos\\\\wlasl-complete\\\\sample_classes\\\\about\\\\00421.mp4', 'C:\\\\CSP400\\\\CSP400_ASLToText\\\\Data\\\\Videos\\\\wlasl-complete\\\\sample_classes\\\\about\\\\00422.mp4', 'C:\\\\CSP400\\\\CSP400_ASLToText\\\\Data\\\\Videos\\\\wlasl-complete\\\\sample_classes\\\\about\\\\00423.mp4', 'C:\\\\CSP400\\\\CSP400_ASLToText\\\\Data\\\\Videos\\\\wlasl-complete\\\\sample_classes\\\\about\\\\00424.mp4', 'C:\\\\CSP400\\\\CSP400_ASLToText\\\\Data\\\\Videos\\\\wlasl-complete\\\\sample_classes\\\\about\\\\00425.mp4', 'C:\\\\CSP400\\\\CSP400_ASLToText\\\\Data\\\\Videos\\\\wlasl-complete\\\\sample_classes\\\\about\\\\00426.mp4', 'C:\\\\CSP400\\\\CSP400_ASLToText\\\\Data\\\\Videos\\\\wlasl-complete\\\\sample_classes\\\\about\\\\65002.mp4', 'C:\\\\CSP400\\\\CSP400_ASLToText\\\\Data\\\\Videos\\\\wlasl-complete\\\\sample_classes\\\\about\\\\65003.mp4', 'C:\\\\CSP400\\\\CSP400_ASLToText\\\\Data\\\\Videos\\\\wlasl-complete\\\\sample_classes\\\\about\\\\67339.mp4', 'C:\\\\CSP400\\\\CSP400_ASLToText\\\\Data\\\\Videos\\\\wlasl-complete\\\\sample_classes\\\\about\\\\67341.mp4', 'C:\\\\CSP400\\\\CSP400_ASLToText\\\\Data\\\\Videos\\\\wlasl-complete\\\\sample_classes\\\\above\\\\00429.mp4', 'C:\\\\CSP400\\\\CSP400_ASLToText\\\\Data\\\\Videos\\\\wlasl-complete\\\\sample_classes\\\\above\\\\00430.mp4', 'C:\\\\CSP400\\\\CSP400_ASLToText\\\\Data\\\\Videos\\\\wlasl-complete\\\\sample_classes\\\\above\\\\00431.mp4', 'C:\\\\CSP400\\\\CSP400_ASLToText\\\\Data\\\\Videos\\\\wlasl-complete\\\\sample_classes\\\\above\\\\00432.mp4', 'C:\\\\CSP400\\\\CSP400_ASLToText\\\\Data\\\\Videos\\\\wlasl-complete\\\\sample_classes\\\\above\\\\00433.mp4', 'C:\\\\CSP400\\\\CSP400_ASLToText\\\\Data\\\\Videos\\\\wlasl-complete\\\\sample_classes\\\\above\\\\00434.mp4', 'C:\\\\CSP400\\\\CSP400_ASLToText\\\\Data\\\\Videos\\\\wlasl-complete\\\\sample_classes\\\\above\\\\00435.mp4', 'C:\\\\CSP400\\\\CSP400_ASLToText\\\\Data\\\\Videos\\\\wlasl-complete\\\\sample_classes\\\\above\\\\65004.mp4', 'C:\\\\CSP400\\\\CSP400_ASLToText\\\\Data\\\\Videos\\\\wlasl-complete\\\\sample_classes\\\\above\\\\70167.mp4', 'C:\\\\CSP400\\\\CSP400_ASLToText\\\\Data\\\\Videos\\\\wlasl-complete\\\\sample_classes\\\\accent\\\\00581.mp4', 'C:\\\\CSP400\\\\CSP400_ASLToText\\\\Data\\\\Videos\\\\wlasl-complete\\\\sample_classes\\\\accent\\\\00583.mp4', 'C:\\\\CSP400\\\\CSP400_ASLToText\\\\Data\\\\Videos\\\\wlasl-complete\\\\sample_classes\\\\accent\\\\00584.mp4', 'C:\\\\CSP400\\\\CSP400_ASLToText\\\\Data\\\\Videos\\\\wlasl-complete\\\\sample_classes\\\\accent\\\\00585.mp4', 'C:\\\\CSP400\\\\CSP400_ASLToText\\\\Data\\\\Videos\\\\wlasl-complete\\\\sample_classes\\\\accent\\\\00586.mp4', 'C:\\\\CSP400\\\\CSP400_ASLToText\\\\Data\\\\Videos\\\\wlasl-complete\\\\sample_classes\\\\accent\\\\00587.mp4', 'C:\\\\CSP400\\\\CSP400_ASLToText\\\\Data\\\\Videos\\\\wlasl-complete\\\\sample_classes\\\\accent\\\\65006.mp4', 'C:\\\\CSP400\\\\CSP400_ASLToText\\\\Data\\\\Videos\\\\wlasl-complete\\\\sample_classes\\\\accept\\\\00588.mp4', 'C:\\\\CSP400\\\\CSP400_ASLToText\\\\Data\\\\Videos\\\\wlasl-complete\\\\sample_classes\\\\accept\\\\00592.mp4', 'C:\\\\CSP400\\\\CSP400_ASLToText\\\\Data\\\\Videos\\\\wlasl-complete\\\\sample_classes\\\\accept\\\\00593.mp4', 'C:\\\\CSP400\\\\CSP400_ASLToText\\\\Data\\\\Videos\\\\wlasl-complete\\\\sample_classes\\\\accept\\\\00594.mp4', 'C:\\\\CSP400\\\\CSP400_ASLToText\\\\Data\\\\Videos\\\\wlasl-complete\\\\sample_classes\\\\accept\\\\00597.mp4', 'C:\\\\CSP400\\\\CSP400_ASLToText\\\\Data\\\\Videos\\\\wlasl-complete\\\\sample_classes\\\\accept\\\\00598.mp4', 'C:\\\\CSP400\\\\CSP400_ASLToText\\\\Data\\\\Videos\\\\wlasl-complete\\\\sample_classes\\\\accept\\\\00599.mp4', 'C:\\\\CSP400\\\\CSP400_ASLToText\\\\Data\\\\Videos\\\\wlasl-complete\\\\sample_classes\\\\accept\\\\00600.mp4', 'C:\\\\CSP400\\\\CSP400_ASLToText\\\\Data\\\\Videos\\\\wlasl-complete\\\\sample_classes\\\\accept\\\\00601.mp4', 'C:\\\\CSP400\\\\CSP400_ASLToText\\\\Data\\\\Videos\\\\wlasl-complete\\\\sample_classes\\\\accept\\\\00602.mp4', 'C:\\\\CSP400\\\\CSP400_ASLToText\\\\Data\\\\Videos\\\\wlasl-complete\\\\sample_classes\\\\accept\\\\00603.mp4', 'C:\\\\CSP400\\\\CSP400_ASLToText\\\\Data\\\\Videos\\\\wlasl-complete\\\\sample_classes\\\\accept\\\\65007.mp4', 'C:\\\\CSP400\\\\CSP400_ASLToText\\\\Data\\\\Videos\\\\wlasl-complete\\\\sample_classes\\\\accident\\\\00618.mp4', 'C:\\\\CSP400\\\\CSP400_ASLToText\\\\Data\\\\Videos\\\\wlasl-complete\\\\sample_classes\\\\accident\\\\00623.mp4', 'C:\\\\CSP400\\\\CSP400_ASLToText\\\\Data\\\\Videos\\\\wlasl-complete\\\\sample_classes\\\\accident\\\\00624.mp4', 'C:\\\\CSP400\\\\CSP400_ASLToText\\\\Data\\\\Videos\\\\wlasl-complete\\\\sample_classes\\\\accident\\\\00625.mp4', 'C:\\\\CSP400\\\\CSP400_ASLToText\\\\Data\\\\Videos\\\\wlasl-complete\\\\sample_classes\\\\accident\\\\00626.mp4', 'C:\\\\CSP400\\\\CSP400_ASLToText\\\\Data\\\\Videos\\\\wlasl-complete\\\\sample_classes\\\\accident\\\\00627.mp4', 'C:\\\\CSP400\\\\CSP400_ASLToText\\\\Data\\\\Videos\\\\wlasl-complete\\\\sample_classes\\\\accident\\\\00628.mp4', 'C:\\\\CSP400\\\\CSP400_ASLToText\\\\Data\\\\Videos\\\\wlasl-complete\\\\sample_classes\\\\accident\\\\00629.mp4', 'C:\\\\CSP400\\\\CSP400_ASLToText\\\\Data\\\\Videos\\\\wlasl-complete\\\\sample_classes\\\\accident\\\\00630.mp4', 'C:\\\\CSP400\\\\CSP400_ASLToText\\\\Data\\\\Videos\\\\wlasl-complete\\\\sample_classes\\\\accident\\\\00631.mp4', 'C:\\\\CSP400\\\\CSP400_ASLToText\\\\Data\\\\Videos\\\\wlasl-complete\\\\sample_classes\\\\accident\\\\00632.mp4', 'C:\\\\CSP400\\\\CSP400_ASLToText\\\\Data\\\\Videos\\\\wlasl-complete\\\\sample_classes\\\\accident\\\\00633.mp4', 'C:\\\\CSP400\\\\CSP400_ASLToText\\\\Data\\\\Videos\\\\wlasl-complete\\\\sample_classes\\\\accident\\\\00634.mp4', 'C:\\\\CSP400\\\\CSP400_ASLToText\\\\Data\\\\Videos\\\\wlasl-complete\\\\sample_classes\\\\accident\\\\00635.mp4', 'C:\\\\CSP400\\\\CSP400_ASLToText\\\\Data\\\\Videos\\\\wlasl-complete\\\\sample_classes\\\\accident\\\\00636.mp4', 'C:\\\\CSP400\\\\CSP400_ASLToText\\\\Data\\\\Videos\\\\wlasl-complete\\\\sample_classes\\\\accident\\\\00638.mp4', 'C:\\\\CSP400\\\\CSP400_ASLToText\\\\Data\\\\Videos\\\\wlasl-complete\\\\sample_classes\\\\accident\\\\00639.mp4', 'C:\\\\CSP400\\\\CSP400_ASLToText\\\\Data\\\\Videos\\\\wlasl-complete\\\\sample_classes\\\\accident\\\\65009.mp4', 'C:\\\\CSP400\\\\CSP400_ASLToText\\\\Data\\\\Videos\\\\wlasl-complete\\\\sample_classes\\\\accident\\\\67342.mp4', 'C:\\\\CSP400\\\\CSP400_ASLToText\\\\Data\\\\Videos\\\\wlasl-complete\\\\sample_classes\\\\accomplish\\\\00662.mp4', 'C:\\\\CSP400\\\\CSP400_ASLToText\\\\Data\\\\Videos\\\\wlasl-complete\\\\sample_classes\\\\accomplish\\\\00663.mp4', 'C:\\\\CSP400\\\\CSP400_ASLToText\\\\Data\\\\Videos\\\\wlasl-complete\\\\sample_classes\\\\accomplish\\\\00664.mp4', 'C:\\\\CSP400\\\\CSP400_ASLToText\\\\Data\\\\Videos\\\\wlasl-complete\\\\sample_classes\\\\accomplish\\\\00665.mp4', 'C:\\\\CSP400\\\\CSP400_ASLToText\\\\Data\\\\Videos\\\\wlasl-complete\\\\sample_classes\\\\accomplish\\\\00666.mp4', 'C:\\\\CSP400\\\\CSP400_ASLToText\\\\Data\\\\Videos\\\\wlasl-complete\\\\sample_classes\\\\accomplish\\\\00667.mp4', 'C:\\\\CSP400\\\\CSP400_ASLToText\\\\Data\\\\Videos\\\\wlasl-complete\\\\sample_classes\\\\accomplish\\\\00668.mp4', 'C:\\\\CSP400\\\\CSP400_ASLToText\\\\Data\\\\Videos\\\\wlasl-complete\\\\sample_classes\\\\accomplish\\\\65010.mp4', 'C:\\\\CSP400\\\\CSP400_ASLToText\\\\Data\\\\Videos\\\\wlasl-complete\\\\sample_classes\\\\accomplish\\\\67343.mp4']\n"
     ]
    }
   ],
   "source": [
    "path = \"C:\\CSP400\\CSP400_ASLToText\\Data\\Videos\\wlasl-complete\\sample_classes\"\n",
    "files = [os.path.join(root, name)\n",
    "             for root, dirs, files in os.walk(path)\n",
    "             for name in files]\n",
    "\n",
    "print(files)"
   ]
  },
  {
   "cell_type": "code",
   "execution_count": 89,
   "id": "b3b6169d",
   "metadata": {},
   "outputs": [
    {
     "ename": "IndexError",
     "evalue": "list index out of range",
     "output_type": "error",
     "traceback": [
      "\u001b[1;31m---------------------------------------------------------------------------\u001b[0m",
      "\u001b[1;31mIndexError\u001b[0m                                Traceback (most recent call last)",
      "Cell \u001b[1;32mIn[89], line 1\u001b[0m\n\u001b[1;32m----> 1\u001b[0m \u001b[38;5;28mprint\u001b[39m(\u001b[38;5;124;43m\"\u001b[39;49m\u001b[38;5;124;43mfiles[10]\u001b[39;49m\u001b[38;5;124;43m\"\u001b[39;49m\u001b[38;5;241;43m.\u001b[39;49m\u001b[43msplit\u001b[49m\u001b[43m(\u001b[49m\u001b[38;5;124;43m'\u001b[39;49m\u001b[38;5;130;43;01m\\\\\u001b[39;49;00m\u001b[38;5;124;43m'\u001b[39;49m\u001b[43m)\u001b[49m\u001b[43m[\u001b[49m\u001b[38;5;241;43m-\u001b[39;49m\u001b[38;5;241;43m2\u001b[39;49m\u001b[43m]\u001b[49m)\n",
      "\u001b[1;31mIndexError\u001b[0m: list index out of range"
     ]
    }
   ],
   "source": [
    "print(\"files[10]\".split('\\\\')[-2])"
   ]
  },
  {
   "cell_type": "code",
   "execution_count": 132,
   "id": "4063cf9c",
   "metadata": {},
   "outputs": [],
   "source": [
    "def Get_Class(filename):\n",
    "    #print(filename)\n",
    "    return filename.split(\"\\\\\")[-2]"
   ]
  },
  {
   "cell_type": "code",
   "execution_count": 133,
   "id": "15a3ec93",
   "metadata": {},
   "outputs": [],
   "source": [
    "def Get_Class_Files(files):\n",
    "    files_for_class = collections.defaultdict(list)\n",
    "    for fname in files:\n",
    "        class_name = Get_Class(fname)\n",
    "        #print(class_name)\n",
    "        files_for_class[class_name].append(fname)\n",
    "    return files_for_class"
   ]
  },
  {
   "cell_type": "code",
   "execution_count": 134,
   "id": "376faa98",
   "metadata": {},
   "outputs": [],
   "source": [
    "def Select_Class_Subset(files_for_class, classes, files_per_class):\n",
    "    files_subset = dict()\n",
    "\n",
    "    for class_name in classes:\n",
    "        class_files = files_for_class[class_name]\n",
    "        files_subset[class_name] = class_files[:files_per_class]\n",
    "\n",
    "    return files_subset"
   ]
  },
  {
   "cell_type": "code",
   "execution_count": 135,
   "id": "9a50a89f",
   "metadata": {},
   "outputs": [
    {
     "name": "stdout",
     "output_type": "stream",
     "text": [
      "Num classes: 10\n",
      "Num videos for class[0]: 8\n"
     ]
    }
   ],
   "source": [
    "NUM_CLASSES = 10\n",
    "FILES_PER_CLASS = 50\n",
    "\n",
    "files_classes = Get_Class_Files(files)\n",
    "classes = list(files_for_class.keys())\n",
    "\n",
    "print('Num classes:', len(classes))\n",
    "print('Num videos for class[0]:', len(files_for_class[classes[0]]))"
   ]
  },
  {
   "cell_type": "code",
   "execution_count": 136,
   "id": "bb9124c5",
   "metadata": {},
   "outputs": [
    {
     "data": {
      "text/plain": [
       "['a',\n",
       " 'a lot',\n",
       " 'abdomen',\n",
       " 'able',\n",
       " 'about',\n",
       " 'above',\n",
       " 'accent',\n",
       " 'accept',\n",
       " 'accident',\n",
       " 'accomplish']"
      ]
     },
     "execution_count": 136,
     "metadata": {},
     "output_type": "execute_result"
    }
   ],
   "source": [
    "files_subset = Select_Class_Subset(files_for_class, classes[:NUM_CLASSES], FILES_PER_CLASS)\n",
    "list(files_subset.keys())"
   ]
  },
  {
   "cell_type": "code",
   "execution_count": 137,
   "id": "f5c799bf",
   "metadata": {},
   "outputs": [],
   "source": [
    "def Split_Classes(files_for_class, count):\n",
    "    split_files = []\n",
    "    remainder = {}\n",
    "    for cls in files_for_class:\n",
    "        split_files.extend(files_for_class[cls][:count])\n",
    "        remainder[cls] = files_for_class[cls][count:]\n",
    "    return split_files, remainder\n",
    "\n",
    "#def Split_Generator(files_for_class,splits):\n",
    "    "
   ]
  },
  {
   "cell_type": "code",
   "execution_count": 147,
   "id": "20363c9e",
   "metadata": {},
   "outputs": [
    {
     "name": "stdout",
     "output_type": "stream",
     "text": [
      "train :\n",
      "val :\n",
      "test :\n",
      "{'train': WindowsPath('../ASL_subset/train'), 'val': WindowsPath('../ASL_subset/train/val'), 'test': WindowsPath('../ASL_subset/train/val/test')}\n"
     ]
    }
   ],
   "source": [
    "files_for_class = Get_Class_Files(files)\n",
    "\n",
    "classes = list(files_for_class.keys())[:NUM_CLASSES]\n",
    "\n",
    "for cls in classes:\n",
    "    random.shuffle(files_for_class[cls])\n",
    "\n",
    "# Only use the number of classes you want in the dictionary\n",
    "files_for_class = {x: files_for_class[x] for x in classes}\n",
    "\n",
    "dirs = {}\n",
    "splits = {\"train\": 30, \"val\": 10, \"test\": 10}\n",
    "split_dir = pathlib.Path('../ASL_subset/')\n",
    "for split_name, split_count in splits.items():\n",
    "    print(split_name, \":\")\n",
    "    split_dir = split_dir / split_name\n",
    "    split_files, files_for_class = Split_Classes(files_for_class, split_count)\n",
    "    dirs[split_name] = split_dir\n",
    "\n",
    "print(dirs)"
   ]
  },
  {
   "cell_type": "code",
   "execution_count": 146,
   "id": "8d8697fc",
   "metadata": {},
   "outputs": [
    {
     "name": "stdout",
     "output_type": "stream",
     "text": [
      "Total videos: 0\n"
     ]
    }
   ],
   "source": [
    "video_count_train = len(list(split_dir.glob('train/*/*.avi')))\n",
    "video_count_val = len(list(split_dir.glob('val/*/*.avi')))\n",
    "video_count_test = len(list(split_dir.glob('test/*/*.avi')))\n",
    "video_total = video_count_train + video_count_val + video_count_test\n",
    "print(f\"Total videos: {video_total}\")"
   ]
  },
  {
   "cell_type": "code",
   "execution_count": null,
   "id": "a243e3d3",
   "metadata": {},
   "outputs": [],
   "source": []
  }
 ],
 "metadata": {
  "kernelspec": {
   "display_name": "Python 3 (ipykernel)",
   "language": "python",
   "name": "python3"
  },
  "language_info": {
   "codemirror_mode": {
    "name": "ipython",
    "version": 3
   },
   "file_extension": ".py",
   "mimetype": "text/x-python",
   "name": "python",
   "nbconvert_exporter": "python",
   "pygments_lexer": "ipython3",
   "version": "3.9.18"
  }
 },
 "nbformat": 4,
 "nbformat_minor": 5
}
